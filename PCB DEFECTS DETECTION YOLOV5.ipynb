{
 "cells": [
  {
   "cell_type": "markdown",
   "id": "14566788",
   "metadata": {},
   "source": [
    "# Download Dataset"
   ]
  },
  {
   "cell_type": "code",
   "execution_count": 1,
   "id": "2c5f9f61",
   "metadata": {},
   "outputs": [],
   "source": [
    "# Dataset URL:  https://www.kaggle.com/datasets/akhatova/pcb-defects"
   ]
  },
  {
   "cell_type": "markdown",
   "id": "2fe5709d",
   "metadata": {},
   "source": [
    "# Convert XML to txt"
   ]
  },
  {
   "cell_type": "code",
   "execution_count": 2,
   "id": "248b3035",
   "metadata": {},
   "outputs": [
    {
     "ename": "FileNotFoundError",
     "evalue": "[Errno 2] No such file or directory: './XmlToTxt/'",
     "output_type": "error",
     "traceback": [
      "\u001b[0;31m---------------------------------------------------------------------------\u001b[0m",
      "\u001b[0;31mFileNotFoundError\u001b[0m                         Traceback (most recent call last)",
      "\u001b[1;32m/home/gzm/projects/YOLOv5_PCB_Defects_Detection/PCB DEFECTS DETECTION YOLOV5.ipynb Cell 4\u001b[0m line \u001b[0;36m3\n\u001b[1;32m      <a href='vscode-notebook-cell://wsl%2Bubuntu-22.04/home/gzm/projects/YOLOv5_PCB_Defects_Detection/PCB%20DEFECTS%20DETECTION%20YOLOV5.ipynb#W3sdnNjb2RlLXJlbW90ZQ%3D%3D?line=0'>1</a>\u001b[0m \u001b[39m# https://github.com/isabek/XmlToTxt\u001b[39;00m\n\u001b[1;32m      <a href='vscode-notebook-cell://wsl%2Bubuntu-22.04/home/gzm/projects/YOLOv5_PCB_Defects_Detection/PCB%20DEFECTS%20DETECTION%20YOLOV5.ipynb#W3sdnNjb2RlLXJlbW90ZQ%3D%3D?line=1'>2</a>\u001b[0m \u001b[39mimport\u001b[39;00m \u001b[39mos\u001b[39;00m\n\u001b[0;32m----> <a href='vscode-notebook-cell://wsl%2Bubuntu-22.04/home/gzm/projects/YOLOv5_PCB_Defects_Detection/PCB%20DEFECTS%20DETECTION%20YOLOV5.ipynb#W3sdnNjb2RlLXJlbW90ZQ%3D%3D?line=2'>3</a>\u001b[0m cd \u001b[39m=\u001b[39m os\u001b[39m.\u001b[39;49mchdir(\u001b[39m\"\u001b[39;49m\u001b[39m./XmlToTxt/\u001b[39;49m\u001b[39m\"\u001b[39;49m)\n\u001b[1;32m      <a href='vscode-notebook-cell://wsl%2Bubuntu-22.04/home/gzm/projects/YOLOv5_PCB_Defects_Detection/PCB%20DEFECTS%20DETECTION%20YOLOV5.ipynb#W3sdnNjb2RlLXJlbW90ZQ%3D%3D?line=3'>4</a>\u001b[0m \u001b[39m# os.chdir(\"./YT/YOLOv5-custom-dataset-gc-pcb-defects/XmlToTxt\")\u001b[39;00m\n\u001b[1;32m      <a href='vscode-notebook-cell://wsl%2Bubuntu-22.04/home/gzm/projects/YOLOv5_PCB_Defects_Detection/PCB%20DEFECTS%20DETECTION%20YOLOV5.ipynb#W3sdnNjb2RlLXJlbW90ZQ%3D%3D?line=4'>5</a>\u001b[0m get_ipython()\u001b[39m.\u001b[39msystem(\u001b[39m'\u001b[39m\u001b[39mpython xmltotxt.py -c classes.txt -xml xml -out out\u001b[39m\u001b[39m'\u001b[39m)\n",
      "\u001b[0;31mFileNotFoundError\u001b[0m: [Errno 2] No such file or directory: './XmlToTxt/'"
     ]
    }
   ],
   "source": [
    "# https://github.com/isabek/XmlToTxt\n",
    "import os\n",
    "cd = os.chdir(\"./XmlToTxt/\")\n",
    "# os.chdir(\"./YT/YOLOv5-custom-dataset-gc-pcb-defects/XmlToTxt\")\n",
    "!python xmltotxt.py -c classes.txt -xml xml -out out"
   ]
  },
  {
   "cell_type": "markdown",
   "id": "1e8c9aa0",
   "metadata": {},
   "source": [
    "# Move Labels and Images to YOLOV5 Directory Structure"
   ]
  },
  {
   "cell_type": "code",
   "execution_count": 4,
   "id": "b58f3c67",
   "metadata": {},
   "outputs": [],
   "source": [
    "import os\n",
    "from random import choice\n",
    "import shutil\n",
    "def to_v5_directories(images_train_path,images_val_path,labels_train_path,labels_val_path, dataset_source):\n",
    "    imgs =[]\n",
    "    xmls =[]\n",
    "    trainPath = images_train_path\n",
    "    valPath =  images_val_path\n",
    "    crsPath = dataset_source\n",
    "    train_ratio = 0.8\n",
    "    val_ratio = 0.2\n",
    "    totalImgCount = len(os.listdir(crsPath))/2\n",
    "    for (dirname, dirs, files) in os.walk(crsPath):\n",
    "        for filename in files:\n",
    "            if filename.endswith('.txt'):\n",
    "                xmls.append(filename)\n",
    "            else:\n",
    "                imgs.append(filename)\n",
    "    countForTrain = int(len(imgs)*train_ratio)\n",
    "    countForVal = int(len(imgs)*val_ratio)\n",
    "    trainimagePath = images_train_path\n",
    "    trainlabelPath = labels_train_path\n",
    "    valimagePath = images_val_path\n",
    "    vallabelPath = labels_val_path\n",
    "    for x in range(countForTrain):\n",
    "        fileJpg = choice(imgs)\n",
    "        fileXml = fileJpg[:-4] +'.txt'\n",
    "        shutil.copy(os.path.join(crsPath, fileJpg), os.path.join(trainimagePath, fileJpg))\n",
    "        shutil.copy(os.path.join(crsPath, fileXml), os.path.join(trainlabelPath, fileXml))\n",
    "        imgs.remove(fileJpg)\n",
    "        xmls.remove(fileXml)\n",
    "    for x in range(countForVal):\n",
    "        fileJpg = choice(imgs) \n",
    "        fileXml = fileJpg[:-4] +'.txt' \n",
    "        shutil.copy(os.path.join(crsPath, fileJpg), os.path.join(valimagePath, fileJpg))\n",
    "        shutil.copy(os.path.join(crsPath, fileXml), os.path.join(vallabelPath, fileXml))\n",
    "        imgs.remove(fileJpg)\n",
    "        xmls.remove(fileXml)\n",
    "    print(\"Training images are : \",countForTrain)\n",
    "    print(\"Validation images are : \",countForVal)\n",
    "#     shutil.move(crsPath, valPath)\n"
   ]
  },
  {
   "cell_type": "code",
   "execution_count": 3,
   "id": "16eabd0f",
   "metadata": {},
   "outputs": [
    {
     "data": {
      "text/plain": [
       "'/home/gzm/projects/YOLOv5_PCB_Defects_Detection'"
      ]
     },
     "execution_count": 3,
     "metadata": {},
     "output_type": "execute_result"
    }
   ],
   "source": [
    "# os.chdir(\"./\")\n",
    "os.getcwd()"
   ]
  },
  {
   "cell_type": "code",
   "execution_count": 10,
   "id": "88eaf16e",
   "metadata": {},
   "outputs": [
    {
     "name": "stdout",
     "output_type": "stream",
     "text": [
      "Training images are :  92\n",
      "Validation images are :  23\n"
     ]
    }
   ],
   "source": [
    "to_v5_directories(\"dataset/images/train\",\"dataset/images/val\",\"dataset/labels/train\",\"dataset/labels/val\", \"Annotations/Spurious_copper\")"
   ]
  },
  {
   "cell_type": "markdown",
   "id": "c19bf273",
   "metadata": {},
   "source": [
    "# Training"
   ]
  },
  {
   "cell_type": "code",
   "execution_count": 4,
   "id": "49c43ffc",
   "metadata": {},
   "outputs": [],
   "source": [
    "# !python train.py --img 416 --batch 16 --epochs 20 --data dataset.yaml --weights yolov5s.pt --cache --name "
   ]
  },
  {
   "cell_type": "markdown",
   "id": "60a3d3c6",
   "metadata": {},
   "source": [
    "# Validation"
   ]
  },
  {
   "cell_type": "code",
   "execution_count": null,
   "id": "5cfa3070",
   "metadata": {},
   "outputs": [],
   "source": [
    "# !python val.py --weights  --data dataset.yaml "
   ]
  },
  {
   "cell_type": "markdown",
   "id": "f2b41a22",
   "metadata": {},
   "source": [
    "# Detection"
   ]
  },
  {
   "cell_type": "code",
   "execution_count": null,
   "id": "ce80bc2a",
   "metadata": {},
   "outputs": [],
   "source": [
    "# !python detect.py --source ../test_images/test_1.jpg  --weights  runs/train/mask_i416_b16_e20_v5s/weights/best.pt"
   ]
  }
 ],
 "metadata": {
  "kernelspec": {
   "display_name": "Python 3 (ipykernel)",
   "language": "python",
   "name": "python3"
  },
  "language_info": {
   "codemirror_mode": {
    "name": "ipython",
    "version": 3
   },
   "file_extension": ".py",
   "mimetype": "text/x-python",
   "name": "python",
   "nbconvert_exporter": "python",
   "pygments_lexer": "ipython3",
   "version": "3.10.12"
  }
 },
 "nbformat": 4,
 "nbformat_minor": 5
}
